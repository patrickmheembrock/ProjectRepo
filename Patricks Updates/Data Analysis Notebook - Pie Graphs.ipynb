{
 "cells": [
  {
   "cell_type": "code",
   "execution_count": null,
   "metadata": {},
   "outputs": [],
   "source": [
    "## Project: 2014 Heart Disease Mortality of 500 Random Counties, based on the Concentration of McDonald's Restaurants\n",
    "## Further Considerations by Gender, Race/Ethnicity, and Income Level\n",
    "\n",
    "## Data Analysis Notebook"
   ]
  },
  {
   "cell_type": "code",
   "execution_count": 86,
   "metadata": {},
   "outputs": [],
   "source": [
    "#Dependencies\n",
    "import pandas as pd\n",
    "import matplotlib.pyplot as plt\n",
    "import numpy as np"
   ]
  },
  {
   "cell_type": "code",
   "execution_count": 87,
   "metadata": {},
   "outputs": [
    {
     "data": {
      "text/html": [
       "<div>\n",
       "<style scoped>\n",
       "    .dataframe tbody tr th:only-of-type {\n",
       "        vertical-align: middle;\n",
       "    }\n",
       "\n",
       "    .dataframe tbody tr th {\n",
       "        vertical-align: top;\n",
       "    }\n",
       "\n",
       "    .dataframe thead th {\n",
       "        text-align: right;\n",
       "    }\n",
       "</style>\n",
       "<table border=\"1\" class=\"dataframe\">\n",
       "  <thead>\n",
       "    <tr style=\"text-align: right;\">\n",
       "      <th></th>\n",
       "      <th>State</th>\n",
       "      <th>County</th>\n",
       "      <th>Deaths per 100,000</th>\n",
       "      <th>Gender</th>\n",
       "      <th>Race/Ethnicity</th>\n",
       "      <th>Geographical Coordinates</th>\n",
       "    </tr>\n",
       "  </thead>\n",
       "  <tbody>\n",
       "    <tr>\n",
       "      <th>0</th>\n",
       "      <td>AK</td>\n",
       "      <td>Aleutians East, AK</td>\n",
       "      <td>105.3</td>\n",
       "      <td>Overall</td>\n",
       "      <td>Overall</td>\n",
       "      <td>(55.440626, -161.962562)</td>\n",
       "    </tr>\n",
       "    <tr>\n",
       "      <th>1</th>\n",
       "      <td>AK</td>\n",
       "      <td>Aleutians West, AK</td>\n",
       "      <td>211.9</td>\n",
       "      <td>Overall</td>\n",
       "      <td>Overall</td>\n",
       "      <td>(52.995403, -170.251538)</td>\n",
       "    </tr>\n",
       "    <tr>\n",
       "      <th>2</th>\n",
       "      <td>AK</td>\n",
       "      <td>Anchorage, AK</td>\n",
       "      <td>257.9</td>\n",
       "      <td>Overall</td>\n",
       "      <td>Overall</td>\n",
       "      <td>(61.159049, -149.103905)</td>\n",
       "    </tr>\n",
       "    <tr>\n",
       "      <th>3</th>\n",
       "      <td>AK</td>\n",
       "      <td>Bethel, AK</td>\n",
       "      <td>351.6</td>\n",
       "      <td>Overall</td>\n",
       "      <td>Overall</td>\n",
       "      <td>(60.924483, -159.749655)</td>\n",
       "    </tr>\n",
       "    <tr>\n",
       "      <th>4</th>\n",
       "      <td>AK</td>\n",
       "      <td>Denali, AK</td>\n",
       "      <td>305.5</td>\n",
       "      <td>Overall</td>\n",
       "      <td>Overall</td>\n",
       "      <td>(63.678399, -149.962076)</td>\n",
       "    </tr>\n",
       "  </tbody>\n",
       "</table>\n",
       "</div>"
      ],
      "text/plain": [
       "  State              County  Deaths per 100,000   Gender Race/Ethnicity  \\\n",
       "0    AK  Aleutians East, AK               105.3  Overall        Overall   \n",
       "1    AK  Aleutians West, AK               211.9  Overall        Overall   \n",
       "2    AK       Anchorage, AK               257.9  Overall        Overall   \n",
       "3    AK          Bethel, AK               351.6  Overall        Overall   \n",
       "4    AK          Denali, AK               305.5  Overall        Overall   \n",
       "\n",
       "   Geographical Coordinates  \n",
       "0  (55.440626, -161.962562)  \n",
       "1  (52.995403, -170.251538)  \n",
       "2  (61.159049, -149.103905)  \n",
       "3  (60.924483, -159.749655)  \n",
       "4  (63.678399, -149.962076)  "
      ]
     },
     "execution_count": 87,
     "metadata": {},
     "output_type": "execute_result"
    }
   ],
   "source": [
    "#Importing Cleaned CDC Data\n",
    "cdc_pd = pd.read_csv(\"Final_Clean_CDC_Data.csv\")\n",
    "cdc_pd.head()\n",
    "\n",
    "## TO DO ## THE CURRENT PIE GRAPHS ARE BASED ON THE \n",
    "## WE COULD KEEP THE PIE CHARTS AS-IS, ON A NATIONAL LEVEL AND USE THE SCATTER PLOTS\n",
    "## TO ONLY SHOW OUR SAMPLE OF 500 COUNTIES. WHAT DO YOU GUYS THINK??"
   ]
  },
  {
   "cell_type": "code",
   "execution_count": 88,
   "metadata": {},
   "outputs": [
    {
     "data": {
      "text/plain": [
       "0        Ada County, ID\n",
       "1      Adams County, CO\n",
       "2      Adams County, IL\n",
       "3      Adams County, MS\n",
       "4      Adams County, ND\n",
       "5      Adams County, NE\n",
       "6    Alameda County, CA\n",
       "7     Alcona County, MI\n",
       "8    Allegan County, MI\n",
       "9      Anoka County, MN\n",
       "Name: county, dtype: object"
      ]
     },
     "execution_count": 88,
     "metadata": {},
     "output_type": "execute_result"
    }
   ],
   "source": [
    "# Importing the Dataframe of 500 Random Counties and their number of McDonalds\n",
    "mcd_pd = pd.read_csv(\"Mcdonalds_per_County.csv\")\n",
    "\n",
    "# Making a list of the 500 Counties to pull from the CDC information\n",
    "county_list = mcd_pd[\"county\"]\n",
    "county_list.head(10)"
   ]
  },
  {
   "cell_type": "code",
   "execution_count": 107,
   "metadata": {},
   "outputs": [
    {
     "name": "stdout",
     "output_type": "stream",
     "text": [
      "Empty DataFrame\n",
      "Columns: [State, County, Deaths per 100,000, Gender, Race/Ethnicity, Geographical Coordinates]\n",
      "Index: []\n"
     ]
    }
   ],
   "source": [
    "#df[df.A.isin([0,2])]\n",
    "#df.query('A in [0,2]')\n",
    "# rnd_mcd = cdc_pd[cdc_pd.County.isin(county_list)]\n",
    "# rnd_mcd \n",
    "cdc_pd.sort_values('County')\n",
    "\n",
    "\n",
    "print(cdc_pd.loc[cdc_pd['County'].isin([county_list])])"
   ]
  },
  {
   "cell_type": "code",
   "execution_count": 90,
   "metadata": {},
   "outputs": [],
   "source": [
    "#Pulling Mortality Rates by Gender to Build Pie Chart Visualizations\n",
    "\n",
    "#Overall Male Mortality\n",
    "overall_male = cdc_pd.groupby([\"Gender\"]).get_group((\"Male\"))\n",
    "tot_male = overall_male[(overall_male[\"Gender\"] == \"Male\") &  (overall_male[\"Race/Ethnicity\"] == \"Overall\")]\n",
    "tot_male = tot_male[\"Deaths per 100,000\"].sum() \n",
    "\n",
    "#Overall Female Mortality\n",
    "overall_female = cdc_pd.groupby([\"Gender\"]).get_group((\"Female\"))\n",
    "tot_female = overall_female[(overall_female[\"Gender\"] == \"Female\") &  (overall_female[\"Race/Ethnicity\"] == \"Overall\")]\n",
    "tot_female = tot_female[\"Deaths per 100,000\"].sum()"
   ]
  },
  {
   "cell_type": "code",
   "execution_count": 33,
   "metadata": {},
   "outputs": [
    {
     "data": {
      "image/png": "[encoded data removed]",
      "text/plain": [
       "<Figure size 432x288 with 1 Axes>"
      ]
     },
     "metadata": {},
     "output_type": "display_data"
    }
   ],
   "source": [
    "## Labels for the sections of our pie chart\n",
    "labels = [\"Male\", \"Female\"]\n",
    "\n",
    "# The values of each section of the pie chart\n",
    "sizes = [tot_male, tot_female]\n",
    "\n",
    "# The colors of each section of the pie chart\n",
    "colors = [\"lightskyblue\", \"lightcoral\"]\n",
    "\n",
    "# Creates the pie chart based upon the values above\n",
    "# Automatically finds the percentages of each part of the pie chart\n",
    "plt.pie(sizes, labels=labels, colors=colors,\n",
    "        autopct=\"%1.1f%%\", shadow=True, startangle=140)\n",
    "plt.title(\"Mortality by Gender\")\n",
    "\n",
    "# Tells matplotlib that we want a pie chart with equal axes\n",
    "plt.axis(\"equal\")\n",
    "\n",
    "# Save Figure\n",
    "plt.savefig(\"Pie_Mortality_by_Gender.png\")"
   ]
  },
  {
   "cell_type": "code",
   "execution_count": 45,
   "metadata": {},
   "outputs": [
    {
     "data": {
      "text/plain": [
       "1135514.0"
      ]
     },
     "execution_count": 45,
     "metadata": {},
     "output_type": "execute_result"
    }
   ],
   "source": [
    "#Pulling Mortality Rates by Race to Build Pie Chart Visualizations\n",
    "\n",
    "#American Indian and Alaskan Native Mortality\n",
    "aian_mort = cdc_pd.groupby([\"Race/Ethnicity\"]).get_group((\"American Indian and Alaskan Native\"))\n",
    "tot_aian_mort = aian_mort[(aian_mort[\"Gender\"] == \"Overall\") &  (aian_mort[\"Race/Ethnicity\"] == \"American Indian and Alaskan Native\")]\n",
    "tot_aian_mort = tot_aian_mort[\"Deaths per 100,000\"].sum()\n",
    "\n",
    "#Asian and Pacific Islander Mortality\n",
    "api_mort = cdc_pd.groupby([\"Race/Ethnicity\"]).get_group((\"Asian and Pacific Islander\"))\n",
    "tot_api_mort = api_mort[(api_mort[\"Gender\"] == \"Overall\") &  (api_mort[\"Race/Ethnicity\"] == \"Asian and Pacific Islander\")]\n",
    "tot_api_mort = tot_api_mort[\"Deaths per 100,000\"].sum()\n",
    "\n",
    "#Black Mortality\n",
    "blk_mort = cdc_pd.groupby([\"Race/Ethnicity\"]).get_group((\"Black\"))\n",
    "tot_blk_mort = blk_mort[(blk_mort[\"Gender\"] == \"Overall\") &  (blk_mort[\"Race/Ethnicity\"] == \"Black\")]\n",
    "tot_blk_mort = tot_blk_mort[\"Deaths per 100,000\"].sum()\n",
    "\n",
    "#Hispanic Mortality\n",
    "his_mort = cdc_pd.groupby([\"Race/Ethnicity\"]).get_group((\"Hispanic\"))\n",
    "tot_his_mort = his_mort[(his_mort[\"Gender\"] == \"Overall\") &  (his_mort[\"Race/Ethnicity\"] == \"Hispanic\")]\n",
    "tot_his_mort = tot_his_mort[\"Deaths per 100,000\"].sum()\n",
    "\n",
    "#White Mortality\n",
    "wht_mort = cdc_pd.groupby([\"Race/Ethnicity\"]).get_group((\"White\"))\n",
    "tot_wht_mort = wht_mort[(wht_mort[\"Gender\"] == \"Overall\") &  (wht_mort[\"Race/Ethnicity\"] == \"White\")]\n",
    "tot_wht_mort = tot_wht_mort[\"Deaths per 100,000\"].sum()\n"
   ]
  },
  {
   "cell_type": "code",
   "execution_count": 52,
   "metadata": {},
   "outputs": [
    {
     "data": {
      "image/png": "[encoded data removed]",
      "text/plain": [
       "<Figure size 432x288 with 1 Axes>"
      ]
     },
     "metadata": {},
     "output_type": "display_data"
    }
   ],
   "source": [
    "## Labels for the sections of our pie chart\n",
    "labels = [\"American Indian & Alaskan Native\", \"Asian & Pacific Islander\", \"Black\", \"Hispanic\", \"White\"]\n",
    "\n",
    "# The values of each section of the pie chart\n",
    "sizes = [tot_aian_mort, tot_api_mort, tot_blk_mort, tot_his_mort, tot_wht_mort]\n",
    "\n",
    "# The colors of each section of the pie chart\n",
    "colors = [\"yellow\", \"orange\", \"blue\", \"lightcoral\", \"lightskyblue\"]\n",
    "\n",
    "# Creates the pie chart based upon the values above\n",
    "# Automatically finds the percentages of each part of the pie chart\n",
    "plt.pie(sizes, labels=labels, colors=colors,\n",
    "        autopct=\"%1.1f%%\", shadow=True, startangle=140)\n",
    "plt.title(\"Mortality by Race\")\n",
    "\n",
    "# Tells matplotlib that we want a pie chart with equal axes\n",
    "plt.axis(\"equal\")\n",
    "\n",
    "# Save Figure\n",
    "plt.savefig(\"Pie_Mortality_by_Race.png\")"
   ]
  },
  {
   "cell_type": "code",
   "execution_count": null,
   "metadata": {},
   "outputs": [],
   "source": []
  }
 ],
 "metadata": {
  "kernelspec": {
   "display_name": "Python 3",
   "language": "python",
   "name": "python3"
  },
  "language_info": {
   "codemirror_mode": {
    "name": "ipython",
    "version": 3
   },
   "file_extension": ".py",
   "mimetype": "text/x-python",
   "name": "python",
   "nbconvert_exporter": "python",
   "pygments_lexer": "ipython3",
   "version": "3.7.3"
  }
 },
 "nbformat": 4,
 "nbformat_minor": 2
}
